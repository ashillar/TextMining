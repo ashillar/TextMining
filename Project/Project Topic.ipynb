{
 "cells": [
  {
   "cell_type": "markdown",
   "id": "bfee65b3",
   "metadata": {},
   "source": [
    "# Detecting Bullying and Hatespeech on Twitter"
   ]
  },
  {
   "cell_type": "markdown",
   "id": "b1716cfb",
   "metadata": {},
   "source": [
    "## Import Document"
   ]
  },
  {
   "cell_type": "code",
   "execution_count": 4,
   "id": "d3e4f265",
   "metadata": {},
   "outputs": [],
   "source": [
    "# Import libraries\n",
    "import nltk\n",
    "from nltk.corpus import movie_reviews, stopwords\n",
    "import pandas as pd\n",
    "import numpy as np\n",
    "import sklearn\n",
    "from sklearn.metrics import classification_report\n",
    "from simpletransformers.classification import ClassificationModel, ClassificationArgs\n",
    "import matplotlib.pyplot as plt \n",
    "import seaborn as sn \n",
    "stop_words = list(set(nltk.word_tokenize(' '.join(stopwords.words('english'))) + stopwords.words('english')))"
   ]
  },
  {
   "cell_type": "markdown",
   "id": "c8e63357",
   "metadata": {},
   "source": [
    "### Test Set\n"
   ]
  },
  {
   "cell_type": "code",
   "execution_count": 6,
   "id": "7027e4af",
   "metadata": {},
   "outputs": [],
   "source": [
    "topic_test = pd.read_csv('data/sentiment-topic-final-test.tsv', delimiter='\\t').drop(columns=['sentence id'])"
   ]
  },
  {
   "cell_type": "markdown",
   "id": "ed041754",
   "metadata": {},
   "source": [
    "### Train set"
   ]
  },
  {
   "cell_type": "code",
   "execution_count": 8,
   "id": "2798485e",
   "metadata": {},
   "outputs": [],
   "source": [
    "review_restaurant = pd.read_csv('data/Restaurant_Reviews.tsv', delimiter='\\t').drop(columns=['Liked']).rename(columns={'Review': 'text'})\n",
    "review_movies = pd.DataFrame({'text': movie_reviews.sents()}).applymap(' '.join)\n",
    "books = pd.read_csv('data/book_reviews.csv').drop(columns=['lable']).rename(columns={'ReviewContent': 'text'}\n",
    "\n",
    "\n",
    "\n"
   ]
  },
  {
   "cell_type": "code",
   "execution_count": null,
   "id": "58c81937",
   "metadata": {},
   "outputs": [],
   "source": []
  }
 ],
 "metadata": {
  "kernelspec": {
   "display_name": "Python 3 (ipykernel)",
   "language": "python",
   "name": "python3"
  },
  "language_info": {
   "codemirror_mode": {
    "name": "ipython",
    "version": 3
   },
   "file_extension": ".py",
   "mimetype": "text/x-python",
   "name": "python",
   "nbconvert_exporter": "python",
   "pygments_lexer": "ipython3",
   "version": "3.9.13"
  }
 },
 "nbformat": 4,
 "nbformat_minor": 5
}
